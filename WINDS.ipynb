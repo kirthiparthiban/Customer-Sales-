{
 "cells": [
  {
   "cell_type": "code",
   "execution_count": 2,
   "metadata": {
    "ExecuteTime": {
     "end_time": "2020-04-02T10:39:58.887577Z",
     "start_time": "2020-04-02T10:39:58.857656Z"
    }
   },
   "outputs": [],
   "source": [
    "import pandas as pd\n",
    "from pathlib import Path\n",
    "from ipywidgets import widgets\n",
    "from pandas_profiling import ProfileReport"
   ]
  },
  {
   "cell_type": "code",
   "execution_count": 3,
   "metadata": {
    "ExecuteTime": {
     "end_time": "2020-04-02T10:40:08.681962Z",
     "start_time": "2020-04-02T10:40:08.656033Z"
    }
   },
   "outputs": [],
   "source": [
    "import matplotlib.pyplot as plt\n",
    "import seaborn as sns\n",
    "import numpy as np\n",
    "%matplotlib inline\n",
    "pd.set_option('display.max_columns', 120)"
   ]
  },
  {
   "cell_type": "code",
   "execution_count": 4,
   "metadata": {
    "ExecuteTime": {
     "end_time": "2020-04-02T10:40:11.681695Z",
     "start_time": "2020-04-02T10:40:11.271624Z"
    }
   },
   "outputs": [],
   "source": [
    "df = pd.read_csv(\"C:/Users/91994/Downloads/train_yhhx1Xs/train.csv\")"
   ]
  },
  {
   "cell_type": "code",
   "execution_count": 2,
   "metadata": {
    "ExecuteTime": {
     "end_time": "2020-03-30T10:12:35.526695Z",
     "start_time": "2020-03-30T10:12:34.738681Z"
    }
   },
   "outputs": [],
   "source": [
    "profile = ProfileReport(df, title='Pandas Profiling Report', html={'style':{'full_width':True}},minimal = False)\n",
    "profile.to_file(output_file=\"full.html\")"
   ]
  },
  {
   "cell_type": "code",
   "execution_count": 5,
   "metadata": {
    "ExecuteTime": {
     "end_time": "2020-04-02T10:40:14.729489Z",
     "start_time": "2020-04-02T10:40:14.653683Z"
    }
   },
   "outputs": [
    {
     "name": "stdout",
     "output_type": "stream",
     "text": [
      "<class 'pandas.core.frame.DataFrame'>\n",
      "RangeIndex: 512087 entries, 0 to 512086\n",
      "Data columns (total 11 columns):\n",
      "ID                    512087 non-null int64\n",
      "Day_No                512087 non-null int64\n",
      "Course_ID             512087 non-null int64\n",
      "Course_Domain         512087 non-null object\n",
      "Course_Type           512087 non-null object\n",
      "Short_Promotion       512087 non-null int64\n",
      "Public_Holiday        512087 non-null int64\n",
      "Long_Promotion        512087 non-null int64\n",
      "User_Traffic          512087 non-null int64\n",
      "Competition_Metric    510323 non-null float64\n",
      "Sales                 512087 non-null int64\n",
      "dtypes: float64(1), int64(8), object(2)\n",
      "memory usage: 43.0+ MB\n"
     ]
    }
   ],
   "source": [
    "df.info()"
   ]
  },
  {
   "cell_type": "code",
   "execution_count": 6,
   "metadata": {
    "ExecuteTime": {
     "end_time": "2020-04-02T10:40:16.765509Z",
     "start_time": "2020-04-02T10:40:16.711684Z"
    },
    "scrolled": true
   },
   "outputs": [
    {
     "name": "stdout",
     "output_type": "stream",
     "text": [
      "ID 0\n",
      "Day_No 0\n",
      "Course_ID 0\n",
      "Course_Domain 0\n",
      "Course_Type 0\n",
      "Short_Promotion 0\n",
      "Public_Holiday 0\n",
      "Long_Promotion 0\n",
      "User_Traffic 0\n",
      "Competition_Metric 1764\n",
      "Sales 0\n"
     ]
    }
   ],
   "source": [
    "labels = []\n",
    "values = []\n",
    "for col in df.columns:\n",
    "    labels.append(col)\n",
    "    values.append(df[col].isnull().sum())\n",
    "    print(col, values[-1])"
   ]
  },
  {
   "cell_type": "code",
   "execution_count": 7,
   "metadata": {
    "ExecuteTime": {
     "end_time": "2020-04-02T10:40:19.152555Z",
     "start_time": "2020-04-02T10:40:18.849053Z"
    },
    "scrolled": true
   },
   "outputs": [],
   "source": [
    "coursedomain_dict = {'Business':0, 'Development':1, 'Finance & Accounting' :2, 'Software Marketing' : 4}\n",
    "coursetype_dict = {'Course':0, 'Degree':1, 'Program':2}\n",
    "\n",
    "df[\"Course_Domain\"] = df[\"Course_Domain\"].apply(lambda x: coursedomain_dict[x])\n",
    "df[\"Course_Type\"] = df[\"Course_Type\"].apply(lambda x: coursetype_dict[x])"
   ]
  },
  {
   "cell_type": "code",
   "execution_count": 8,
   "metadata": {
    "ExecuteTime": {
     "end_time": "2020-04-02T10:40:20.330117Z",
     "start_time": "2020-04-02T10:40:20.264256Z"
    },
    "scrolled": true
   },
   "outputs": [],
   "source": [
    "df.fillna(0, inplace=True)"
   ]
  },
  {
   "cell_type": "code",
   "execution_count": 9,
   "metadata": {
    "ExecuteTime": {
     "end_time": "2020-04-02T10:40:21.707658Z",
     "start_time": "2020-04-02T10:40:21.690737Z"
    }
   },
   "outputs": [
    {
     "name": "stdout",
     "output_type": "stream",
     "text": [
      "ID 0\n",
      "Day_No 0\n",
      "Course_ID 0\n",
      "Course_Domain 0\n",
      "Course_Type 0\n",
      "Short_Promotion 0\n",
      "Public_Holiday 0\n",
      "Long_Promotion 0\n",
      "User_Traffic 0\n",
      "Competition_Metric 0\n",
      "Sales 0\n"
     ]
    }
   ],
   "source": [
    "labels = []\n",
    "values = []\n",
    "for col in df.columns:\n",
    "    labels.append(col)\n",
    "    values.append(df[col].isnull().sum())\n",
    "    print(col, values[-1])"
   ]
  },
  {
   "cell_type": "code",
   "execution_count": 10,
   "metadata": {
    "ExecuteTime": {
     "end_time": "2020-04-02T10:45:07.556698Z",
     "start_time": "2020-04-02T10:40:25.012864Z"
    }
   },
   "outputs": [
    {
     "name": "stdout",
     "output_type": "stream",
     "text": [
      "ID [1]\n",
      "Day_No [507 599 600]\n",
      "Course_ID [698 881 882]\n",
      "Course_Domain [  4410  77210 166172 264295]\n",
      "Course_Type [  1764 247576 262747]\n",
      "Public_Holiday [ 16202 495885]\n",
      "Short_Promotion [194718 317369]\n",
      "Long_Promotion [250394 261693]\n"
     ]
    }
   ],
   "source": [
    "# Getting count features\n",
    "\n",
    "def getCountVar(compute_df, count_df, var_name):\n",
    "\tgrouped_df = count_df.groupby(var_name)\n",
    "\tcount_dict = {}\n",
    "\tfor name, group in grouped_df:\n",
    "\t\tcount_dict[name] = group.shape[0]\n",
    "\n",
    "\tcount_list = []\n",
    "\tfor index, row in compute_df.iterrows():\n",
    "\t\tname = row[var_name]\n",
    "\t\tcount_list.append(count_dict.get(name, 0))\n",
    "\treturn count_list\n",
    "\n",
    "\n",
    "df[\"ID_count\"] = getCountVar(df, df, \"ID\")\n",
    "print(\"ID\", np.unique(df[\"ID_count\"]))\n",
    "\n",
    "df[\"Day_No_count\"] = getCountVar(df, df, \"Day_No\")\n",
    "print(\"Day_No\", np.unique(df[\"Day_No_count\"]))\n",
    "\n",
    "df[\"Course_ID_count\"] = getCountVar(df, df, \"Course_ID\")\n",
    "print(\"Course_ID\", np.unique(df[\"Course_ID_count\"]))\n",
    "\n",
    "df[\"CourseDomain_Count\"] = getCountVar(df, df, \"Course_Domain\")\n",
    "print(\"Course_Domain\", np.unique(df[\"CourseDomain_Count\"]))\n",
    "\n",
    "df[\"CourseType_Count\"] = getCountVar(df, df, \"Course_Type\")\n",
    "print(\"Course_Type\", np.unique(df[\"CourseType_Count\"]))\n",
    "\n",
    "df[\"PublicHoliday_Count\"] = getCountVar(df, df, \"Public_Holiday\")\n",
    "print(\"Public_Holiday\", np.unique(df[\"PublicHoliday_Count\"]))\n",
    "\n",
    "df[\"ShortPromo_Count\"] = getCountVar(df, df, \"Short_Promotion\")\n",
    "print(\"Short_Promotion\", np.unique(df[\"ShortPromo_Count\"]))\n",
    "\n",
    "df[\"LongPromo_Count\"] = getCountVar(df, df, \"Long_Promotion\")\n",
    "print(\"Long_Promotion\", np.unique(df[\"LongPromo_Count\"]))"
   ]
  },
  {
   "cell_type": "code",
   "execution_count": 11,
   "metadata": {
    "ExecuteTime": {
     "end_time": "2020-04-02T11:08:55.391813Z",
     "start_time": "2020-04-02T11:08:55.367877Z"
    },
    "scrolled": true
   },
   "outputs": [
    {
     "data": {
      "text/html": [
       "<div>\n",
       "<style scoped>\n",
       "    .dataframe tbody tr th:only-of-type {\n",
       "        vertical-align: middle;\n",
       "    }\n",
       "\n",
       "    .dataframe tbody tr th {\n",
       "        vertical-align: top;\n",
       "    }\n",
       "\n",
       "    .dataframe thead th {\n",
       "        text-align: right;\n",
       "    }\n",
       "</style>\n",
       "<table border=\"1\" class=\"dataframe\">\n",
       "  <thead>\n",
       "    <tr style=\"text-align: right;\">\n",
       "      <th></th>\n",
       "      <th>ID</th>\n",
       "      <th>Day_No</th>\n",
       "      <th>Course_ID</th>\n",
       "      <th>Course_Domain</th>\n",
       "      <th>Course_Type</th>\n",
       "      <th>Short_Promotion</th>\n",
       "      <th>Public_Holiday</th>\n",
       "      <th>Long_Promotion</th>\n",
       "      <th>User_Traffic</th>\n",
       "      <th>Competition_Metric</th>\n",
       "      <th>Sales</th>\n",
       "      <th>ID_count</th>\n",
       "      <th>Day_No_count</th>\n",
       "      <th>Course_ID_count</th>\n",
       "      <th>CourseDomain_Count</th>\n",
       "      <th>CourseType_Count</th>\n",
       "      <th>PublicHoliday_Count</th>\n",
       "      <th>ShortPromo_Count</th>\n",
       "      <th>LongPromo_Count</th>\n",
       "    </tr>\n",
       "  </thead>\n",
       "  <tbody>\n",
       "    <tr>\n",
       "      <th>0</th>\n",
       "      <td>1</td>\n",
       "      <td>1</td>\n",
       "      <td>1</td>\n",
       "      <td>1</td>\n",
       "      <td>0</td>\n",
       "      <td>0</td>\n",
       "      <td>1</td>\n",
       "      <td>1</td>\n",
       "      <td>11004</td>\n",
       "      <td>0.007</td>\n",
       "      <td>81</td>\n",
       "      <td>1</td>\n",
       "      <td>599</td>\n",
       "      <td>882</td>\n",
       "      <td>264295</td>\n",
       "      <td>262747</td>\n",
       "      <td>16202</td>\n",
       "      <td>317369</td>\n",
       "      <td>250394</td>\n",
       "    </tr>\n",
       "    <tr>\n",
       "      <th>1</th>\n",
       "      <td>2</td>\n",
       "      <td>2</td>\n",
       "      <td>1</td>\n",
       "      <td>1</td>\n",
       "      <td>0</td>\n",
       "      <td>0</td>\n",
       "      <td>0</td>\n",
       "      <td>1</td>\n",
       "      <td>13650</td>\n",
       "      <td>0.007</td>\n",
       "      <td>79</td>\n",
       "      <td>1</td>\n",
       "      <td>600</td>\n",
       "      <td>882</td>\n",
       "      <td>264295</td>\n",
       "      <td>262747</td>\n",
       "      <td>495885</td>\n",
       "      <td>317369</td>\n",
       "      <td>250394</td>\n",
       "    </tr>\n",
       "    <tr>\n",
       "      <th>2</th>\n",
       "      <td>3</td>\n",
       "      <td>3</td>\n",
       "      <td>1</td>\n",
       "      <td>1</td>\n",
       "      <td>0</td>\n",
       "      <td>0</td>\n",
       "      <td>0</td>\n",
       "      <td>1</td>\n",
       "      <td>11655</td>\n",
       "      <td>0.007</td>\n",
       "      <td>75</td>\n",
       "      <td>1</td>\n",
       "      <td>600</td>\n",
       "      <td>882</td>\n",
       "      <td>264295</td>\n",
       "      <td>262747</td>\n",
       "      <td>495885</td>\n",
       "      <td>317369</td>\n",
       "      <td>250394</td>\n",
       "    </tr>\n",
       "    <tr>\n",
       "      <th>3</th>\n",
       "      <td>4</td>\n",
       "      <td>4</td>\n",
       "      <td>1</td>\n",
       "      <td>1</td>\n",
       "      <td>0</td>\n",
       "      <td>0</td>\n",
       "      <td>0</td>\n",
       "      <td>1</td>\n",
       "      <td>12054</td>\n",
       "      <td>0.007</td>\n",
       "      <td>80</td>\n",
       "      <td>1</td>\n",
       "      <td>600</td>\n",
       "      <td>882</td>\n",
       "      <td>264295</td>\n",
       "      <td>262747</td>\n",
       "      <td>495885</td>\n",
       "      <td>317369</td>\n",
       "      <td>250394</td>\n",
       "    </tr>\n",
       "    <tr>\n",
       "      <th>4</th>\n",
       "      <td>5</td>\n",
       "      <td>5</td>\n",
       "      <td>1</td>\n",
       "      <td>1</td>\n",
       "      <td>0</td>\n",
       "      <td>0</td>\n",
       "      <td>0</td>\n",
       "      <td>1</td>\n",
       "      <td>6804</td>\n",
       "      <td>0.007</td>\n",
       "      <td>41</td>\n",
       "      <td>1</td>\n",
       "      <td>600</td>\n",
       "      <td>882</td>\n",
       "      <td>264295</td>\n",
       "      <td>262747</td>\n",
       "      <td>495885</td>\n",
       "      <td>317369</td>\n",
       "      <td>250394</td>\n",
       "    </tr>\n",
       "  </tbody>\n",
       "</table>\n",
       "</div>"
      ],
      "text/plain": [
       "   ID  Day_No  Course_ID  Course_Domain  Course_Type  Short_Promotion  \\\n",
       "0   1       1          1              1            0                0   \n",
       "1   2       2          1              1            0                0   \n",
       "2   3       3          1              1            0                0   \n",
       "3   4       4          1              1            0                0   \n",
       "4   5       5          1              1            0                0   \n",
       "\n",
       "   Public_Holiday  Long_Promotion  User_Traffic  Competition_Metric  Sales  \\\n",
       "0               1               1         11004               0.007     81   \n",
       "1               0               1         13650               0.007     79   \n",
       "2               0               1         11655               0.007     75   \n",
       "3               0               1         12054               0.007     80   \n",
       "4               0               1          6804               0.007     41   \n",
       "\n",
       "   ID_count  Day_No_count  Course_ID_count  CourseDomain_Count  \\\n",
       "0         1           599              882              264295   \n",
       "1         1           600              882              264295   \n",
       "2         1           600              882              264295   \n",
       "3         1           600              882              264295   \n",
       "4         1           600              882              264295   \n",
       "\n",
       "   CourseType_Count  PublicHoliday_Count  ShortPromo_Count  LongPromo_Count  \n",
       "0            262747                16202            317369           250394  \n",
       "1            262747               495885            317369           250394  \n",
       "2            262747               495885            317369           250394  \n",
       "3            262747               495885            317369           250394  \n",
       "4            262747               495885            317369           250394  "
      ]
     },
     "execution_count": 11,
     "metadata": {},
     "output_type": "execute_result"
    }
   ],
   "source": [
    "df.head()"
   ]
  },
  {
   "cell_type": "code",
   "execution_count": 12,
   "metadata": {
    "ExecuteTime": {
     "end_time": "2020-04-02T11:08:58.215392Z",
     "start_time": "2020-04-02T11:08:58.205416Z"
    }
   },
   "outputs": [],
   "source": [
    "def runXGB(train_X, train_y, test_X):\n",
    "        params = {}\n",
    "        params[\"objective\"] = \"reg:linear\"\n",
    "        params[\"eta\"] = 0.03\n",
    "        params[\"min_child_weight\"] = 10\n",
    "        params[\"subsample\"] = 0.8\n",
    "        params[\"colsample_bytree\"] = 0.7\n",
    "        params[\"silent\"] = 1\n",
    "        params[\"max_depth\"] = 10\n",
    "        #params[\"max_delta_step\"]=2\n",
    "        params[\"seed\"] = 0\n",
    "        #params['eval_metric'] = \"auc\"\n",
    "        plst = list(params.items())\n",
    "        num_rounds = 1100\n",
    "        xgtrain = xgb.DMatrix(train_X, label=train_y)\n",
    "        xgtest = xgb.DMatrix(test_X)\n",
    "        model = xgb.train(plst, xgtrain, num_rounds)\n",
    "        pred_test_y = model.predict(xgtest)\n",
    "        return pred_test_y"
   ]
  },
  {
   "cell_type": "code",
   "execution_count": 13,
   "metadata": {
    "ExecuteTime": {
     "end_time": "2020-04-02T11:09:00.228668Z",
     "start_time": "2020-04-02T11:09:00.213709Z"
    }
   },
   "outputs": [],
   "source": [
    "def getPurchaseVar(compute_df, purchase_df, var_name):\n",
    "        grouped_df = purchase_df.groupby(var_name)\n",
    "        min_dict = {}\n",
    "        max_dict = {}\n",
    "        mean_dict = {}\n",
    "        twentyfive_dict = {}\n",
    "        seventyfive_dict = {}\n",
    "        for name, group in grouped_df:\n",
    "                min_dict[name] = min(np.array(group[\"Sales\"]))\n",
    "                max_dict[name] = max(np.array(group[\"Sales\"]))\n",
    "                mean_dict[name] = np.mean(np.array(group[\"Sales\"]))\n",
    "                twentyfive_dict[name] = np.percentile(np.array(group[\"Sales\"]),25)\n",
    "                seventyfive_dict[name] = np.percentile(np.array(group[\"Sales\"]),75)\n",
    "\n",
    "        min_list = []\n",
    "        max_list = []\n",
    "        mean_list = []\n",
    "        twentyfive_list = []\n",
    "        seventyfive_list = []\n",
    "        for index, row in compute_df.iterrows():\n",
    "                name = row[var_name]\n",
    "                min_list.append(min_dict.get(name,0))\n",
    "                max_list.append(max_dict.get(name,0))\n",
    "                mean_list.append(mean_dict.get(name,0))\n",
    "                twentyfive_list.append( twentyfive_dict.get(name,0))\n",
    "                seventyfive_list.append( seventyfive_dict.get(name,0))\n",
    "\n",
    "        return min_list, max_list, mean_list, twentyfive_list, seventyfive_list"
   ]
  },
  {
   "cell_type": "code",
   "execution_count": 14,
   "metadata": {
    "ExecuteTime": {
     "end_time": "2020-04-02T11:09:29.497999Z",
     "start_time": "2020-04-02T11:09:01.818001Z"
    }
   },
   "outputs": [],
   "source": [
    "min_price_list, max_price_list, mean_price_list, twentyfive_price_list, seventyfive_price_list = getPurchaseVar(df, df, \"Day_No\")\n",
    "df[\"Day_No_MinPrice\"] = min_price_list\n",
    "df[\"Day_No_MaxPrice\"] = max_price_list\n",
    "df[\"Day_No_MeanPrice\"] = mean_price_list\n",
    "df[\"Day_No_25PercPrice\"] = twentyfive_price_list\n",
    "df[\"Day_No_75PercPrice\"] = seventyfive_price_list"
   ]
  },
  {
   "cell_type": "code",
   "execution_count": 15,
   "metadata": {
    "ExecuteTime": {
     "end_time": "2020-04-02T11:09:56.148221Z",
     "start_time": "2020-04-02T11:09:29.498859Z"
    }
   },
   "outputs": [],
   "source": [
    "min_price_list, max_price_list, mean_price_list, twentyfive_price_list, seventyfive_price_list = getPurchaseVar(df, df, \"Course_ID\")\n",
    "df[\"User_ID_MinPrice\"] = min_price_list\n",
    "df[\"User_ID_MaxPrice\"] = max_price_list\n",
    "df[\"User_ID_MeanPrice\"] = mean_price_list\n",
    "df[\"User_ID_25PercPrice\"] = twentyfive_price_list\n",
    "df[\"User_ID_75PercPrice\"] = seventyfive_price_list"
   ]
  },
  {
   "cell_type": "code",
   "execution_count": 16,
   "metadata": {
    "ExecuteTime": {
     "end_time": "2020-04-02T13:46:21.148516Z",
     "start_time": "2020-04-02T13:46:20.908112Z"
    }
   },
   "outputs": [],
   "source": [
    "X = df.loc[:, df.columns != 'Sales']\n",
    "y = df.loc[:, df.columns == 'Sales']"
   ]
  },
  {
   "cell_type": "code",
   "execution_count": 17,
   "metadata": {
    "ExecuteTime": {
     "end_time": "2020-04-02T13:46:38.153481Z",
     "start_time": "2020-04-02T13:46:23.124830Z"
    }
   },
   "outputs": [],
   "source": [
    "from sklearn.model_selection import train_test_split, KFold\n",
    "from sklearn import ensemble\n",
    "from sklearn import metrics\n",
    "X_train, X_test, y_train, y_test = train_test_split(X, y, test_size=0.25, random_state=0)"
   ]
  },
  {
   "cell_type": "code",
   "execution_count": 24,
   "metadata": {
    "ExecuteTime": {
     "end_time": "2020-04-02T14:45:39.990001Z",
     "start_time": "2020-04-02T14:34:28.300622Z"
    }
   },
   "outputs": [],
   "source": [
    "import xgboost as xgb\n",
    "pred_test_y = runXGB(X_train, y_train, X_test)"
   ]
  },
  {
   "cell_type": "code",
   "execution_count": 28,
   "metadata": {
    "ExecuteTime": {
     "end_time": "2020-04-02T15:18:19.882923Z",
     "start_time": "2020-04-02T15:18:19.352101Z"
    }
   },
   "outputs": [],
   "source": [
    "pred_test_y[pred_test_y<0] = 1\n",
    "test_course_id = np.array(X_test[\"Course_ID\"])\n",
    "test_Day_No = np.array(X_test[\"Day_No\"])\n",
    "test_ID = np.array(X_test[\"ID\"])\n",
    "out_df = pd.DataFrame({\"ID\": test_ID, \"Course_ID\":test_course_id, \"Day_No\": test_Day_No})\n",
    "\n",
    "out_df[\"Purchase\"] = pred_test_y\n",
    "out_df.to_csv(\"sub20.csv\", index=False)"
   ]
  }
 ],
 "metadata": {
  "kernelspec": {
   "display_name": "Python 3",
   "language": "python",
   "name": "python3"
  },
  "language_info": {
   "codemirror_mode": {
    "name": "ipython",
    "version": 3
   },
   "file_extension": ".py",
   "mimetype": "text/x-python",
   "name": "python",
   "nbconvert_exporter": "python",
   "pygments_lexer": "ipython3",
   "version": "3.7.6"
  },
  "toc": {
   "base_numbering": 1,
   "nav_menu": {},
   "number_sections": true,
   "sideBar": true,
   "skip_h1_title": false,
   "title_cell": "Table of Contents",
   "title_sidebar": "Contents",
   "toc_cell": false,
   "toc_position": {},
   "toc_section_display": true,
   "toc_window_display": false
  }
 },
 "nbformat": 4,
 "nbformat_minor": 2
}
